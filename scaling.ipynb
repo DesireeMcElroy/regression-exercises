{
 "cells": [
  {
   "cell_type": "code",
   "execution_count": 39,
   "metadata": {},
   "outputs": [],
   "source": [
    "import pandas as pd\n",
    "import numpy as np\n",
    "import wrangle\n",
    "\n",
    "import matplotlib.pyplot as plt\n",
    "import seaborn as sns\n",
    "\n",
    "import sklearn.preprocessing \n",
    "# import MinMaxScaler, RobustScaler, StandardScaler, InverseTransform\n",
    "\n",
    "from scipy import stats"
   ]
  },
  {
   "cell_type": "markdown",
   "metadata": {},
   "source": [
    "## Regression Exercises"
   ]
  },
  {
   "cell_type": "markdown",
   "metadata": {},
   "source": [
    "1. Apply the scalers we talked about in this lesson to your data and visualize the results for the unscaled and scaled distribution .\n",
    "2. Apply the .inverse_transform method to your scaled data. Is the resulting dataset the exact same as the original data?\n",
    "3. Read the documentation for sklearn's QuantileTransformer. Use normal for the output_distribution and apply this scaler to your data. Visualize the result of your data scaling.\n",
    "4. Use the QuantileTransformer, but omit the output_distribution argument. Visualize your results. What do you notice?\n",
    "5. Based on the work you've done, choose a scaling method for your dataset. Write a function within your prepare.py that accepts as input the train, validate, and test data splits, and returns the scaled versions of each. Be sure to only learn the parameters for scaling from your training data!\n"
   ]
  },
  {
   "cell_type": "code",
   "execution_count": 2,
   "metadata": {},
   "outputs": [],
   "source": [
    "# acquire and prep my data using the functions from my wrangle.py\n",
    "df = wrangle.prep_telco(wrangle.get_telco_data())"
   ]
  },
  {
   "cell_type": "code",
   "execution_count": 3,
   "metadata": {},
   "outputs": [
    {
     "data": {
      "text/html": [
       "<div>\n",
       "<style scoped>\n",
       "    .dataframe tbody tr th:only-of-type {\n",
       "        vertical-align: middle;\n",
       "    }\n",
       "\n",
       "    .dataframe tbody tr th {\n",
       "        vertical-align: top;\n",
       "    }\n",
       "\n",
       "    .dataframe thead th {\n",
       "        text-align: right;\n",
       "    }\n",
       "</style>\n",
       "<table border=\"1\" class=\"dataframe\">\n",
       "  <thead>\n",
       "    <tr style=\"text-align: right;\">\n",
       "      <th></th>\n",
       "      <th>index</th>\n",
       "      <th>customer_id</th>\n",
       "      <th>monthly_charges</th>\n",
       "      <th>tenure</th>\n",
       "      <th>total_charges</th>\n",
       "    </tr>\n",
       "  </thead>\n",
       "  <tbody>\n",
       "    <tr>\n",
       "      <th>0</th>\n",
       "      <td>5348</td>\n",
       "      <td>0040-HALCW</td>\n",
       "      <td>20.4</td>\n",
       "      <td>54</td>\n",
       "      <td>1090.60</td>\n",
       "    </tr>\n",
       "    <tr>\n",
       "      <th>1</th>\n",
       "      <td>5349</td>\n",
       "      <td>0042-RLHYP</td>\n",
       "      <td>19.7</td>\n",
       "      <td>69</td>\n",
       "      <td>1396.90</td>\n",
       "    </tr>\n",
       "    <tr>\n",
       "      <th>2</th>\n",
       "      <td>5350</td>\n",
       "      <td>0057-QBUQH</td>\n",
       "      <td>25.1</td>\n",
       "      <td>43</td>\n",
       "      <td>1070.15</td>\n",
       "    </tr>\n",
       "    <tr>\n",
       "      <th>3</th>\n",
       "      <td>5351</td>\n",
       "      <td>0064-SUDOG</td>\n",
       "      <td>20.3</td>\n",
       "      <td>12</td>\n",
       "      <td>224.50</td>\n",
       "    </tr>\n",
       "    <tr>\n",
       "      <th>4</th>\n",
       "      <td>5352</td>\n",
       "      <td>0071-NDAFP</td>\n",
       "      <td>25.5</td>\n",
       "      <td>25</td>\n",
       "      <td>630.60</td>\n",
       "    </tr>\n",
       "  </tbody>\n",
       "</table>\n",
       "</div>"
      ],
      "text/plain": [
       "   index customer_id  monthly_charges  tenure  total_charges\n",
       "0   5348  0040-HALCW             20.4      54        1090.60\n",
       "1   5349  0042-RLHYP             19.7      69        1396.90\n",
       "2   5350  0057-QBUQH             25.1      43        1070.15\n",
       "3   5351  0064-SUDOG             20.3      12         224.50\n",
       "4   5352  0071-NDAFP             25.5      25         630.60"
      ]
     },
     "execution_count": 3,
     "metadata": {},
     "output_type": "execute_result"
    }
   ],
   "source": [
    "df.head()"
   ]
  },
  {
   "cell_type": "code",
   "execution_count": 27,
   "metadata": {},
   "outputs": [
    {
     "data": {
      "text/plain": [
       "index                int64\n",
       "customer_id         object\n",
       "monthly_charges    float64\n",
       "tenure               int64\n",
       "total_charges      float64\n",
       "dtype: object"
      ]
     },
     "execution_count": 27,
     "metadata": {},
     "output_type": "execute_result"
    }
   ],
   "source": [
    "df.dtypes"
   ]
  },
  {
   "cell_type": "code",
   "execution_count": 5,
   "metadata": {},
   "outputs": [
    {
     "name": "stdout",
     "output_type": "stream",
     "text": [
      "train---> (943, 5)\n",
      "validate---> (405, 5)\n",
      "test---> (337, 5)\n"
     ]
    }
   ],
   "source": [
    "# split our data\n",
    "train, validate, test = wrangle.telco_split(df)"
   ]
  },
  {
   "cell_type": "code",
   "execution_count": 12,
   "metadata": {},
   "outputs": [
    {
     "data": {
      "image/png": "[encoded data removed]",
      "text/plain": [
       "<Figure size 432x288 with 1 Axes>"
      ]
     },
     "metadata": {
      "needs_background": "light"
     },
     "output_type": "display_data"
    }
   ],
   "source": [
    "plt.hist(train['monthly_charges'])\n",
    "plt.show()"
   ]
  },
  {
   "cell_type": "code",
   "execution_count": 13,
   "metadata": {},
   "outputs": [
    {
     "data": {
      "image/png": "[encoded data removed]",
      "text/plain": [
       "<Figure size 432x288 with 1 Axes>"
      ]
     },
     "metadata": {
      "needs_background": "light"
     },
     "output_type": "display_data"
    }
   ],
   "source": [
    "plt.hist(train['tenure'])\n",
    "plt.show()"
   ]
  },
  {
   "cell_type": "code",
   "execution_count": 14,
   "metadata": {},
   "outputs": [
    {
     "data": {
      "image/png": "[encoded data removed]",
      "text/plain": [
       "<Figure size 432x288 with 1 Axes>"
      ]
     },
     "metadata": {
      "needs_background": "light"
     },
     "output_type": "display_data"
    }
   ],
   "source": [
    "plt.hist(train['total_charges'])\n",
    "plt.show()"
   ]
  },
  {
   "cell_type": "code",
   "execution_count": 24,
   "metadata": {},
   "outputs": [
    {
     "data": {
      "text/plain": [
       "Text(0.5, 1.0, 'Distribution of Total Charges')"
      ]
     },
     "execution_count": 24,
     "metadata": {},
     "output_type": "execute_result"
    },
    {
     "data": {
      "image/png": "[encoded data removed]",
      "text/plain": [
       "<Figure size 1440x360 with 3 Axes>"
      ]
     },
     "metadata": {
      "needs_background": "light"
     },
     "output_type": "display_data"
    }
   ],
   "source": [
    "plt.subplots(1, 3, figsize=(20,5), sharey=True)\n",
    "sns.set(style=\"darkgrid\")\n",
    "# Monthly Charges\n",
    "plt.subplot(1,3,1)\n",
    "plt.hist(data=train, x='monthly_charges', color=\"powderblue\")\n",
    "plt.title('Distribution of Monthly Charges')\n",
    "\n",
    "# Tenure\n",
    "plt.subplot(1,3,2)\n",
    "plt.hist(data=train, x='tenure', color=\"skyblue\")\n",
    "plt.title('Distribution of Tenure')\n",
    "\n",
    "# Total Charges\n",
    "plt.subplot(1,3,3)\n",
    "plt.hist(data=train, x='total_charges', color=\"steelblue\")\n",
    "plt.title('Distribution of Total Charges')"
   ]
  },
  {
   "cell_type": "markdown",
   "metadata": {},
   "source": [
    "1. Apply the scalers we talked about in this lesson to your data and visualize the results for the unscaled and scaled distribution ."
   ]
  },
  {
   "cell_type": "code",
   "execution_count": null,
   "metadata": {},
   "outputs": [],
   "source": [
    "## bring in my scaler\n",
    "scaler = MinMaxScaler()"
   ]
  },
  {
   "cell_type": "code",
   "execution_count": 25,
   "metadata": {},
   "outputs": [
    {
     "data": {
      "text/plain": [
       "MinMaxScaler()"
      ]
     },
     "execution_count": 25,
     "metadata": {},
     "output_type": "execute_result"
    }
   ],
   "source": [
    "# fit it\n",
    "scaler.fit(train[['total_charges']])\n",
    "scaler.fit(train[['tenure']])\n",
    "scaler.fit(train[['monthly_charges']])"
   ]
  },
  {
   "cell_type": "code",
   "execution_count": 28,
   "metadata": {},
   "outputs": [],
   "source": [
    "# use it\n",
    "train['total_charges_minmax'] = scaler.transform(train[['total_charges']])\n",
    "train['tenure_minmax'] = scaler.transform(train[['tenure']])\n",
    "train['monthly_minmax'] = scaler.transform(train[['monthly_charges']])"
   ]
  },
  {
   "cell_type": "code",
   "execution_count": 30,
   "metadata": {},
   "outputs": [
    {
     "data": {
      "text/html": [
       "<div>\n",
       "<style scoped>\n",
       "    .dataframe tbody tr th:only-of-type {\n",
       "        vertical-align: middle;\n",
       "    }\n",
       "\n",
       "    .dataframe tbody tr th {\n",
       "        vertical-align: top;\n",
       "    }\n",
       "\n",
       "    .dataframe thead th {\n",
       "        text-align: right;\n",
       "    }\n",
       "</style>\n",
       "<table border=\"1\" class=\"dataframe\">\n",
       "  <thead>\n",
       "    <tr style=\"text-align: right;\">\n",
       "      <th></th>\n",
       "      <th>360</th>\n",
       "      <th>1165</th>\n",
       "      <th>1091</th>\n",
       "      <th>574</th>\n",
       "      <th>1421</th>\n",
       "    </tr>\n",
       "  </thead>\n",
       "  <tbody>\n",
       "    <tr>\n",
       "      <th>index</th>\n",
       "      <td>5712</td>\n",
       "      <td>6519</td>\n",
       "      <td>6444</td>\n",
       "      <td>5927</td>\n",
       "      <td>6779</td>\n",
       "    </tr>\n",
       "    <tr>\n",
       "      <th>customer_id</th>\n",
       "      <td>5696-EXCYS</td>\n",
       "      <td>1951-IEYXM</td>\n",
       "      <td>0440-EKDCF</td>\n",
       "      <td>8966-SNIZF</td>\n",
       "      <td>6034-ZRYCV</td>\n",
       "    </tr>\n",
       "    <tr>\n",
       "      <th>monthly_charges</th>\n",
       "      <td>19.45</td>\n",
       "      <td>90.6</td>\n",
       "      <td>60.15</td>\n",
       "      <td>19.45</td>\n",
       "      <td>54.2</td>\n",
       "    </tr>\n",
       "    <tr>\n",
       "      <th>tenure</th>\n",
       "      <td>17</td>\n",
       "      <td>72</td>\n",
       "      <td>62</td>\n",
       "      <td>70</td>\n",
       "      <td>72</td>\n",
       "    </tr>\n",
       "    <tr>\n",
       "      <th>total_charges</th>\n",
       "      <td>369.05</td>\n",
       "      <td>6441.85</td>\n",
       "      <td>3753.2</td>\n",
       "      <td>1303.5</td>\n",
       "      <td>3937.45</td>\n",
       "    </tr>\n",
       "    <tr>\n",
       "      <th>total_charges_minmax</th>\n",
       "      <td>3.51353</td>\n",
       "      <td>64.3632</td>\n",
       "      <td>37.4228</td>\n",
       "      <td>12.8768</td>\n",
       "      <td>39.269</td>\n",
       "    </tr>\n",
       "    <tr>\n",
       "      <th>tenure_minmax</th>\n",
       "      <td>-0.0140281</td>\n",
       "      <td>0.537074</td>\n",
       "      <td>0.436874</td>\n",
       "      <td>0.517034</td>\n",
       "      <td>0.537074</td>\n",
       "    </tr>\n",
       "    <tr>\n",
       "      <th>monthly_minmax</th>\n",
       "      <td>0.010521</td>\n",
       "      <td>0.723447</td>\n",
       "      <td>0.418337</td>\n",
       "      <td>0.010521</td>\n",
       "      <td>0.358717</td>\n",
       "    </tr>\n",
       "  </tbody>\n",
       "</table>\n",
       "</div>"
      ],
      "text/plain": [
       "                            360         1165        1091        574   \\\n",
       "index                       5712        6519        6444        5927   \n",
       "customer_id           5696-EXCYS  1951-IEYXM  0440-EKDCF  8966-SNIZF   \n",
       "monthly_charges            19.45        90.6       60.15       19.45   \n",
       "tenure                        17          72          62          70   \n",
       "total_charges             369.05     6441.85      3753.2      1303.5   \n",
       "total_charges_minmax     3.51353     64.3632     37.4228     12.8768   \n",
       "tenure_minmax         -0.0140281    0.537074    0.436874    0.517034   \n",
       "monthly_minmax          0.010521    0.723447    0.418337    0.010521   \n",
       "\n",
       "                            1421  \n",
       "index                       6779  \n",
       "customer_id           6034-ZRYCV  \n",
       "monthly_charges             54.2  \n",
       "tenure                        72  \n",
       "total_charges            3937.45  \n",
       "total_charges_minmax      39.269  \n",
       "tenure_minmax           0.537074  \n",
       "monthly_minmax          0.358717  "
      ]
     },
     "execution_count": 30,
     "metadata": {},
     "output_type": "execute_result"
    }
   ],
   "source": [
    "train.head().T"
   ]
  },
  {
   "cell_type": "code",
   "execution_count": 31,
   "metadata": {},
   "outputs": [
    {
     "data": {
      "text/plain": [
       "Text(0.5, 1.0, 'Scaled')"
      ]
     },
     "execution_count": 31,
     "metadata": {},
     "output_type": "execute_result"
    },
    {
     "data": {
      "image/png": "[encoded data removed]",
      "text/plain": [
       "<Figure size 936x432 with 2 Axes>"
      ]
     },
     "metadata": {},
     "output_type": "display_data"
    }
   ],
   "source": [
    "# plot side by side: Monthly Charges\n",
    "plt.figure(figsize=(13, 6))\n",
    "plt.subplot(121)\n",
    "plt.hist(train.monthly_charges, bins=25, ec='black')\n",
    "plt.title('Original')\n",
    "plt.subplot(122)\n",
    "plt.hist(train.monthly_minmax, bins=25, ec='black')\n",
    "plt.title('Scaled')"
   ]
  },
  {
   "cell_type": "code",
   "execution_count": 32,
   "metadata": {},
   "outputs": [
    {
     "data": {
      "text/plain": [
       "Text(0.5, 1.0, 'Scaled')"
      ]
     },
     "execution_count": 32,
     "metadata": {},
     "output_type": "execute_result"
    },
    {
     "data": {
      "image/png": "[encoded data removed]",
      "text/plain": [
       "<Figure size 936x432 with 2 Axes>"
      ]
     },
     "metadata": {},
     "output_type": "display_data"
    }
   ],
   "source": [
    "# plot side by side: Total Charges\n",
    "plt.figure(figsize=(13, 6))\n",
    "plt.subplot(121)\n",
    "plt.hist(train.total_charges, bins=25, ec='black')\n",
    "plt.title('Original')\n",
    "plt.subplot(122)\n",
    "plt.hist(train.total_charges_minmax, bins=25, ec='black')\n",
    "plt.title('Scaled')"
   ]
  },
  {
   "cell_type": "code",
   "execution_count": 33,
   "metadata": {},
   "outputs": [
    {
     "data": {
      "text/plain": [
       "Text(0.5, 1.0, 'Scaled')"
      ]
     },
     "execution_count": 33,
     "metadata": {},
     "output_type": "execute_result"
    },
    {
     "data": {
      "image/png": "[encoded data removed]",
      "text/plain": [
       "<Figure size 936x432 with 2 Axes>"
      ]
     },
     "metadata": {},
     "output_type": "display_data"
    }
   ],
   "source": [
    "# plot side by side: Tenure\n",
    "plt.figure(figsize=(13, 6))\n",
    "plt.subplot(121)\n",
    "plt.hist(train.tenure, bins=25, ec='black')\n",
    "plt.title('Original')\n",
    "plt.subplot(122)\n",
    "plt.hist(train.tenure_minmax, bins=25, ec='black')\n",
    "plt.title('Scaled')"
   ]
  },
  {
   "cell_type": "code",
   "execution_count": 34,
   "metadata": {},
   "outputs": [
    {
     "data": {
      "text/html": [
       "<div>\n",
       "<style scoped>\n",
       "    .dataframe tbody tr th:only-of-type {\n",
       "        vertical-align: middle;\n",
       "    }\n",
       "\n",
       "    .dataframe tbody tr th {\n",
       "        vertical-align: top;\n",
       "    }\n",
       "\n",
       "    .dataframe thead th {\n",
       "        text-align: right;\n",
       "    }\n",
       "</style>\n",
       "<table border=\"1\" class=\"dataframe\">\n",
       "  <thead>\n",
       "    <tr style=\"text-align: right;\">\n",
       "      <th></th>\n",
       "      <th>index</th>\n",
       "      <th>customer_id</th>\n",
       "      <th>monthly_charges</th>\n",
       "      <th>tenure</th>\n",
       "      <th>total_charges</th>\n",
       "      <th>total_charges_minmax</th>\n",
       "      <th>tenure_minmax</th>\n",
       "      <th>monthly_minmax</th>\n",
       "    </tr>\n",
       "  </thead>\n",
       "  <tbody>\n",
       "    <tr>\n",
       "      <th>360</th>\n",
       "      <td>5712</td>\n",
       "      <td>5696-EXCYS</td>\n",
       "      <td>19.45</td>\n",
       "      <td>17</td>\n",
       "      <td>369.05</td>\n",
       "      <td>3.513527</td>\n",
       "      <td>-0.014028</td>\n",
       "      <td>0.010521</td>\n",
       "    </tr>\n",
       "    <tr>\n",
       "      <th>1165</th>\n",
       "      <td>6519</td>\n",
       "      <td>1951-IEYXM</td>\n",
       "      <td>90.60</td>\n",
       "      <td>72</td>\n",
       "      <td>6441.85</td>\n",
       "      <td>64.363226</td>\n",
       "      <td>0.537074</td>\n",
       "      <td>0.723447</td>\n",
       "    </tr>\n",
       "    <tr>\n",
       "      <th>1091</th>\n",
       "      <td>6444</td>\n",
       "      <td>0440-EKDCF</td>\n",
       "      <td>60.15</td>\n",
       "      <td>62</td>\n",
       "      <td>3753.20</td>\n",
       "      <td>37.422846</td>\n",
       "      <td>0.436874</td>\n",
       "      <td>0.418337</td>\n",
       "    </tr>\n",
       "    <tr>\n",
       "      <th>574</th>\n",
       "      <td>5927</td>\n",
       "      <td>8966-SNIZF</td>\n",
       "      <td>19.45</td>\n",
       "      <td>70</td>\n",
       "      <td>1303.50</td>\n",
       "      <td>12.876754</td>\n",
       "      <td>0.517034</td>\n",
       "      <td>0.010521</td>\n",
       "    </tr>\n",
       "    <tr>\n",
       "      <th>1421</th>\n",
       "      <td>6779</td>\n",
       "      <td>6034-ZRYCV</td>\n",
       "      <td>54.20</td>\n",
       "      <td>72</td>\n",
       "      <td>3937.45</td>\n",
       "      <td>39.269038</td>\n",
       "      <td>0.537074</td>\n",
       "      <td>0.358717</td>\n",
       "    </tr>\n",
       "  </tbody>\n",
       "</table>\n",
       "</div>"
      ],
      "text/plain": [
       "      index customer_id  monthly_charges  tenure  total_charges  \\\n",
       "360    5712  5696-EXCYS            19.45      17         369.05   \n",
       "1165   6519  1951-IEYXM            90.60      72        6441.85   \n",
       "1091   6444  0440-EKDCF            60.15      62        3753.20   \n",
       "574    5927  8966-SNIZF            19.45      70        1303.50   \n",
       "1421   6779  6034-ZRYCV            54.20      72        3937.45   \n",
       "\n",
       "      total_charges_minmax  tenure_minmax  monthly_minmax  \n",
       "360               3.513527      -0.014028        0.010521  \n",
       "1165             64.363226       0.537074        0.723447  \n",
       "1091             37.422846       0.436874        0.418337  \n",
       "574              12.876754       0.517034        0.010521  \n",
       "1421             39.269038       0.537074        0.358717  "
      ]
     },
     "execution_count": 34,
     "metadata": {},
     "output_type": "execute_result"
    }
   ],
   "source": [
    "train.head()"
   ]
  },
  {
   "cell_type": "markdown",
   "metadata": {},
   "source": [
    "2. Apply the .inverse_transform method to your scaled data. Is the resulting dataset the exact same as the original data?"
   ]
  },
  {
   "cell_type": "code",
   "execution_count": 54,
   "metadata": {},
   "outputs": [
    {
     "data": {
      "text/plain": [
       "array([[17.],\n",
       "       [72.],\n",
       "       [62.],\n",
       "       [70.],\n",
       "       [72.]])"
      ]
     },
     "execution_count": 54,
     "metadata": {},
     "output_type": "execute_result"
    }
   ],
   "source": [
    "# reverts back to original column\n",
    "scaler.inverse_transform(train[['monthly_minmax']])\n",
    "scaler.inverse_transform(train[['total_charges_minmax']])\n",
    "(scaler.inverse_transform(train[['tenure_minmax']]))[:5] # only show first 5"
   ]
  },
  {
   "cell_type": "code",
   "execution_count": 50,
   "metadata": {},
   "outputs": [
    {
     "data": {
      "text/html": [
       "<div>\n",
       "<style scoped>\n",
       "    .dataframe tbody tr th:only-of-type {\n",
       "        vertical-align: middle;\n",
       "    }\n",
       "\n",
       "    .dataframe tbody tr th {\n",
       "        vertical-align: top;\n",
       "    }\n",
       "\n",
       "    .dataframe thead th {\n",
       "        text-align: right;\n",
       "    }\n",
       "</style>\n",
       "<table border=\"1\" class=\"dataframe\">\n",
       "  <thead>\n",
       "    <tr style=\"text-align: right;\">\n",
       "      <th></th>\n",
       "      <th>index</th>\n",
       "      <th>customer_id</th>\n",
       "      <th>monthly_charges</th>\n",
       "      <th>tenure</th>\n",
       "      <th>total_charges</th>\n",
       "      <th>total_charges_minmax</th>\n",
       "      <th>tenure_minmax</th>\n",
       "      <th>monthly_minmax</th>\n",
       "    </tr>\n",
       "  </thead>\n",
       "  <tbody>\n",
       "    <tr>\n",
       "      <th>360</th>\n",
       "      <td>5712</td>\n",
       "      <td>5696-EXCYS</td>\n",
       "      <td>19.45</td>\n",
       "      <td>17</td>\n",
       "      <td>369.05</td>\n",
       "      <td>3.513527</td>\n",
       "      <td>-0.014028</td>\n",
       "      <td>0.010521</td>\n",
       "    </tr>\n",
       "    <tr>\n",
       "      <th>1165</th>\n",
       "      <td>6519</td>\n",
       "      <td>1951-IEYXM</td>\n",
       "      <td>90.60</td>\n",
       "      <td>72</td>\n",
       "      <td>6441.85</td>\n",
       "      <td>64.363226</td>\n",
       "      <td>0.537074</td>\n",
       "      <td>0.723447</td>\n",
       "    </tr>\n",
       "    <tr>\n",
       "      <th>1091</th>\n",
       "      <td>6444</td>\n",
       "      <td>0440-EKDCF</td>\n",
       "      <td>60.15</td>\n",
       "      <td>62</td>\n",
       "      <td>3753.20</td>\n",
       "      <td>37.422846</td>\n",
       "      <td>0.436874</td>\n",
       "      <td>0.418337</td>\n",
       "    </tr>\n",
       "    <tr>\n",
       "      <th>574</th>\n",
       "      <td>5927</td>\n",
       "      <td>8966-SNIZF</td>\n",
       "      <td>19.45</td>\n",
       "      <td>70</td>\n",
       "      <td>1303.50</td>\n",
       "      <td>12.876754</td>\n",
       "      <td>0.517034</td>\n",
       "      <td>0.010521</td>\n",
       "    </tr>\n",
       "    <tr>\n",
       "      <th>1421</th>\n",
       "      <td>6779</td>\n",
       "      <td>6034-ZRYCV</td>\n",
       "      <td>54.20</td>\n",
       "      <td>72</td>\n",
       "      <td>3937.45</td>\n",
       "      <td>39.269038</td>\n",
       "      <td>0.537074</td>\n",
       "      <td>0.358717</td>\n",
       "    </tr>\n",
       "  </tbody>\n",
       "</table>\n",
       "</div>"
      ],
      "text/plain": [
       "      index customer_id  monthly_charges  tenure  total_charges  \\\n",
       "360    5712  5696-EXCYS            19.45      17         369.05   \n",
       "1165   6519  1951-IEYXM            90.60      72        6441.85   \n",
       "1091   6444  0440-EKDCF            60.15      62        3753.20   \n",
       "574    5927  8966-SNIZF            19.45      70        1303.50   \n",
       "1421   6779  6034-ZRYCV            54.20      72        3937.45   \n",
       "\n",
       "      total_charges_minmax  tenure_minmax  monthly_minmax  \n",
       "360               3.513527      -0.014028        0.010521  \n",
       "1165             64.363226       0.537074        0.723447  \n",
       "1091             37.422846       0.436874        0.418337  \n",
       "574              12.876754       0.517034        0.010521  \n",
       "1421             39.269038       0.537074        0.358717  "
      ]
     },
     "execution_count": 50,
     "metadata": {},
     "output_type": "execute_result"
    }
   ],
   "source": [
    "train.head()"
   ]
  },
  {
   "cell_type": "markdown",
   "metadata": {},
   "source": [
    "3. Read the documentation for sklearn's QuantileTransformer. Use normal for the output_distribution and apply this scaler to your data. Visualize the result of your data scaling."
   ]
  },
  {
   "cell_type": "code",
   "execution_count": 57,
   "metadata": {},
   "outputs": [],
   "source": [
    "train = train.set_index(\"customer_id\")\n",
    "validate = validate.set_index(\"customer_id\")\n",
    "test = test.set_index(\"customer_id\")"
   ]
  },
  {
   "cell_type": "code",
   "execution_count": 62,
   "metadata": {},
   "outputs": [],
   "source": [
    "qt = sklearn.preprocessing.QuantileTransformer(output_distribution='normal')"
   ]
  },
  {
   "cell_type": "code",
   "execution_count": 66,
   "metadata": {},
   "outputs": [
    {
     "name": "stderr",
     "output_type": "stream",
     "text": [
      "/opt/homebrew/anaconda3/lib/python3.8/site-packages/sklearn/preprocessing/_data.py:2367: UserWarning: n_quantiles (1000) is greater than the total number of samples (943). n_quantiles is set to n_samples.\n",
      "  warnings.warn(\"n_quantiles (%s) is greater than the total number \"\n",
      "/opt/homebrew/anaconda3/lib/python3.8/site-packages/sklearn/preprocessing/_data.py:2367: UserWarning: n_quantiles (1000) is greater than the total number of samples (943). n_quantiles is set to n_samples.\n",
      "  warnings.warn(\"n_quantiles (%s) is greater than the total number \"\n",
      "/opt/homebrew/anaconda3/lib/python3.8/site-packages/sklearn/preprocessing/_data.py:2367: UserWarning: n_quantiles (1000) is greater than the total number of samples (943). n_quantiles is set to n_samples.\n",
      "  warnings.warn(\"n_quantiles (%s) is greater than the total number \"\n"
     ]
    }
   ],
   "source": [
    "train['monthly_charges_qt'] = qt.fit_transform(train[['monthly_charges']])\n",
    "train['total_charges_qt'] = qt.fit_transform(train[['total_charges']])\n",
    "train['tenure_qt'] = qt.fit_transform(train[['tenure']])"
   ]
  },
  {
   "cell_type": "code",
   "execution_count": 77,
   "metadata": {},
   "outputs": [
    {
     "data": {
      "text/html": [
       "<div>\n",
       "<style scoped>\n",
       "    .dataframe tbody tr th:only-of-type {\n",
       "        vertical-align: middle;\n",
       "    }\n",
       "\n",
       "    .dataframe tbody tr th {\n",
       "        vertical-align: top;\n",
       "    }\n",
       "\n",
       "    .dataframe thead th {\n",
       "        text-align: right;\n",
       "    }\n",
       "</style>\n",
       "<table border=\"1\" class=\"dataframe\">\n",
       "  <thead>\n",
       "    <tr style=\"text-align: right;\">\n",
       "      <th></th>\n",
       "      <th>index</th>\n",
       "      <th>monthly_charges</th>\n",
       "      <th>tenure</th>\n",
       "      <th>total_charges</th>\n",
       "      <th>total_charges_minmax</th>\n",
       "      <th>tenure_minmax</th>\n",
       "      <th>monthly_minmax</th>\n",
       "      <th>monthly_charges_qt</th>\n",
       "      <th>total_charges_qt</th>\n",
       "      <th>tenure_qt</th>\n",
       "    </tr>\n",
       "    <tr>\n",
       "      <th>customer_id</th>\n",
       "      <th></th>\n",
       "      <th></th>\n",
       "      <th></th>\n",
       "      <th></th>\n",
       "      <th></th>\n",
       "      <th></th>\n",
       "      <th></th>\n",
       "      <th></th>\n",
       "      <th></th>\n",
       "      <th></th>\n",
       "    </tr>\n",
       "  </thead>\n",
       "  <tbody>\n",
       "    <tr>\n",
       "      <th>5696-EXCYS</th>\n",
       "      <td>5712</td>\n",
       "      <td>19.45</td>\n",
       "      <td>17</td>\n",
       "      <td>369.05</td>\n",
       "      <td>3.513527</td>\n",
       "      <td>-0.014028</td>\n",
       "      <td>0.010521</td>\n",
       "      <td>0.032909</td>\n",
       "      <td>0.050955</td>\n",
       "      <td>0.060510</td>\n",
       "    </tr>\n",
       "    <tr>\n",
       "      <th>1951-IEYXM</th>\n",
       "      <td>6519</td>\n",
       "      <td>90.60</td>\n",
       "      <td>72</td>\n",
       "      <td>6441.85</td>\n",
       "      <td>64.363226</td>\n",
       "      <td>0.537074</td>\n",
       "      <td>0.723447</td>\n",
       "      <td>0.749469</td>\n",
       "      <td>0.802548</td>\n",
       "      <td>1.000000</td>\n",
       "    </tr>\n",
       "    <tr>\n",
       "      <th>0440-EKDCF</th>\n",
       "      <td>6444</td>\n",
       "      <td>60.15</td>\n",
       "      <td>62</td>\n",
       "      <td>3753.20</td>\n",
       "      <td>37.422846</td>\n",
       "      <td>0.436874</td>\n",
       "      <td>0.418337</td>\n",
       "      <td>0.486200</td>\n",
       "      <td>0.528662</td>\n",
       "      <td>0.458599</td>\n",
       "    </tr>\n",
       "    <tr>\n",
       "      <th>8966-SNIZF</th>\n",
       "      <td>5927</td>\n",
       "      <td>19.45</td>\n",
       "      <td>70</td>\n",
       "      <td>1303.50</td>\n",
       "      <td>12.876754</td>\n",
       "      <td>0.517034</td>\n",
       "      <td>0.010521</td>\n",
       "      <td>0.032909</td>\n",
       "      <td>0.267516</td>\n",
       "      <td>0.702760</td>\n",
       "    </tr>\n",
       "    <tr>\n",
       "      <th>6034-ZRYCV</th>\n",
       "      <td>6779</td>\n",
       "      <td>54.20</td>\n",
       "      <td>72</td>\n",
       "      <td>3937.45</td>\n",
       "      <td>39.269038</td>\n",
       "      <td>0.537074</td>\n",
       "      <td>0.358717</td>\n",
       "      <td>0.449575</td>\n",
       "      <td>0.546709</td>\n",
       "      <td>1.000000</td>\n",
       "    </tr>\n",
       "  </tbody>\n",
       "</table>\n",
       "</div>"
      ],
      "text/plain": [
       "             index  monthly_charges  tenure  total_charges  \\\n",
       "customer_id                                                  \n",
       "5696-EXCYS    5712            19.45      17         369.05   \n",
       "1951-IEYXM    6519            90.60      72        6441.85   \n",
       "0440-EKDCF    6444            60.15      62        3753.20   \n",
       "8966-SNIZF    5927            19.45      70        1303.50   \n",
       "6034-ZRYCV    6779            54.20      72        3937.45   \n",
       "\n",
       "             total_charges_minmax  tenure_minmax  monthly_minmax  \\\n",
       "customer_id                                                        \n",
       "5696-EXCYS               3.513527      -0.014028        0.010521   \n",
       "1951-IEYXM              64.363226       0.537074        0.723447   \n",
       "0440-EKDCF              37.422846       0.436874        0.418337   \n",
       "8966-SNIZF              12.876754       0.517034        0.010521   \n",
       "6034-ZRYCV              39.269038       0.537074        0.358717   \n",
       "\n",
       "             monthly_charges_qt  total_charges_qt  tenure_qt  \n",
       "customer_id                                                   \n",
       "5696-EXCYS             0.032909          0.050955   0.060510  \n",
       "1951-IEYXM             0.749469          0.802548   1.000000  \n",
       "0440-EKDCF             0.486200          0.528662   0.458599  \n",
       "8966-SNIZF             0.032909          0.267516   0.702760  \n",
       "6034-ZRYCV             0.449575          0.546709   1.000000  "
      ]
     },
     "execution_count": 77,
     "metadata": {},
     "output_type": "execute_result"
    }
   ],
   "source": [
    "train.head()\n",
    "fit_transform(train.columns)"
   ]
  },
  {
   "cell_type": "code",
   "execution_count": 70,
   "metadata": {},
   "outputs": [
    {
     "data": {
      "text/plain": [
       "Text(0.5, 1.0, 'Scaled')"
      ]
     },
     "execution_count": 70,
     "metadata": {},
     "output_type": "execute_result"
    },
    {
     "data": {
      "image/png": "[encoded data removed]",
      "text/plain": [
       "<Figure size 936x432 with 2 Axes>"
      ]
     },
     "metadata": {},
     "output_type": "display_data"
    }
   ],
   "source": [
    "# plot side by side: Monthly Charges\n",
    "plt.figure(figsize=(13, 6))\n",
    "plt.subplot(121)\n",
    "plt.hist(train.monthly_charges, ec='black')\n",
    "plt.title('Original')\n",
    "plt.subplot(122)\n",
    "plt.hist(train.monthly_charges_qt, ec='black')\n",
    "plt.title('Scaled')"
   ]
  },
  {
   "cell_type": "code",
   "execution_count": 71,
   "metadata": {},
   "outputs": [
    {
     "data": {
      "text/plain": [
       "Text(0.5, 1.0, 'Scaled')"
      ]
     },
     "execution_count": 71,
     "metadata": {},
     "output_type": "execute_result"
    },
    {
     "data": {
      "image/png": "[encoded data removed]",
      "text/plain": [
       "<Figure size 936x432 with 2 Axes>"
      ]
     },
     "metadata": {},
     "output_type": "display_data"
    }
   ],
   "source": [
    "# plot side by side: Total Charges\n",
    "plt.figure(figsize=(13, 6))\n",
    "plt.subplot(121)\n",
    "plt.hist(train.total_charges, ec='black')\n",
    "plt.title('Original')\n",
    "plt.subplot(122)\n",
    "plt.hist(train.total_charges_qt, ec='black')\n",
    "plt.title('Scaled')"
   ]
  },
  {
   "cell_type": "code",
   "execution_count": 72,
   "metadata": {},
   "outputs": [
    {
     "data": {
      "text/plain": [
       "Text(0.5, 1.0, 'Scaled')"
      ]
     },
     "execution_count": 72,
     "metadata": {},
     "output_type": "execute_result"
    },
    {
     "data": {
      "image/png": "[encoded data removed]",
      "text/plain": [
       "<Figure size 936x432 with 2 Axes>"
      ]
     },
     "metadata": {},
     "output_type": "display_data"
    }
   ],
   "source": [
    "# plot side by side: Tenure\n",
    "plt.figure(figsize=(13, 6))\n",
    "plt.subplot(121)\n",
    "plt.hist(train.tenure, ec='black')\n",
    "plt.title('Original')\n",
    "plt.subplot(122)\n",
    "plt.hist(train.tenure_qt, ec='black')\n",
    "plt.title('Scaled')"
   ]
  },
  {
   "cell_type": "code",
   "execution_count": 73,
   "metadata": {},
   "outputs": [
    {
     "name": "stderr",
     "output_type": "stream",
     "text": [
      "/opt/homebrew/anaconda3/lib/python3.8/site-packages/sklearn/preprocessing/_data.py:2367: UserWarning: n_quantiles (1000) is greater than the total number of samples (943). n_quantiles is set to n_samples.\n",
      "  warnings.warn(\"n_quantiles (%s) is greater than the total number \"\n",
      "/opt/homebrew/anaconda3/lib/python3.8/site-packages/sklearn/preprocessing/_data.py:2367: UserWarning: n_quantiles (1000) is greater than the total number of samples (943). n_quantiles is set to n_samples.\n",
      "  warnings.warn(\"n_quantiles (%s) is greater than the total number \"\n",
      "/opt/homebrew/anaconda3/lib/python3.8/site-packages/sklearn/preprocessing/_data.py:2367: UserWarning: n_quantiles (1000) is greater than the total number of samples (943). n_quantiles is set to n_samples.\n",
      "  warnings.warn(\"n_quantiles (%s) is greater than the total number \"\n"
     ]
    }
   ],
   "source": [
    "# 4. Use the QuantileTransformer, but omit the output_distribution argument. \n",
    "# Visualize your results. What do you notice?\n",
    "qt = sklearn.preprocessing.QuantileTransformer()\n",
    "\n",
    "train['monthly_charges_qt'] = qt.fit_transform(train[['monthly_charges']])\n",
    "train['total_charges_qt'] = qt.fit_transform(train[['total_charges']])\n",
    "train['tenure_qt'] = qt.fit_transform(train[['tenure']])"
   ]
  },
  {
   "cell_type": "code",
   "execution_count": 74,
   "metadata": {},
   "outputs": [
    {
     "data": {
      "text/plain": [
       "Text(0.5, 1.0, 'Scaled')"
      ]
     },
     "execution_count": 74,
     "metadata": {},
     "output_type": "execute_result"
    },
    {
     "data": {
      "image/png": "[encoded data removed]",
      "text/plain": [
       "<Figure size 936x432 with 2 Axes>"
      ]
     },
     "metadata": {},
     "output_type": "display_data"
    }
   ],
   "source": [
    "# plot side by side: Monthly Charges\n",
    "plt.figure(figsize=(13, 6))\n",
    "plt.subplot(121)\n",
    "plt.hist(train.monthly_charges, ec='black')\n",
    "plt.title('Original')\n",
    "plt.subplot(122)\n",
    "plt.hist(train.monthly_charges_qt, ec='black')\n",
    "plt.title('Scaled')"
   ]
  },
  {
   "cell_type": "code",
   "execution_count": 75,
   "metadata": {},
   "outputs": [
    {
     "data": {
      "text/plain": [
       "Text(0.5, 1.0, 'Scaled')"
      ]
     },
     "execution_count": 75,
     "metadata": {},
     "output_type": "execute_result"
    },
    {
     "data": {
      "image/png": "[encoded data removed]",
      "text/plain": [
       "<Figure size 936x432 with 2 Axes>"
      ]
     },
     "metadata": {},
     "output_type": "display_data"
    }
   ],
   "source": [
    "# plot side by side: Total Charges\n",
    "plt.figure(figsize=(13, 6))\n",
    "plt.subplot(121)\n",
    "plt.hist(train.total_charges, ec='black')\n",
    "plt.title('Original')\n",
    "plt.subplot(122)\n",
    "plt.hist(train.total_charges_qt, ec='black')\n",
    "plt.title('Scaled')"
   ]
  },
  {
   "cell_type": "code",
   "execution_count": 76,
   "metadata": {},
   "outputs": [
    {
     "data": {
      "text/plain": [
       "Text(0.5, 1.0, 'Scaled')"
      ]
     },
     "execution_count": 76,
     "metadata": {},
     "output_type": "execute_result"
    },
    {
     "data": {
      "image/png": "[encoded data removed]",
      "text/plain": [
       "<Figure size 936x432 with 2 Axes>"
      ]
     },
     "metadata": {},
     "output_type": "display_data"
    }
   ],
   "source": [
    "# plot side by side: Tenure\n",
    "plt.figure(figsize=(13, 6))\n",
    "plt.subplot(121)\n",
    "plt.hist(train.tenure, ec='black')\n",
    "plt.title('Original')\n",
    "plt.subplot(122)\n",
    "plt.hist(train.tenure_qt, ec='black')\n",
    "plt.title('Scaled')"
   ]
  },
  {
   "cell_type": "markdown",
   "metadata": {},
   "source": [
    "5. Based on the work you've done, choose a scaling method for your dataset. Write a function within your prepare.py that accepts as input the train, validate, and test data splits, and returns the scaled versions of each. Be sure to only learn the parameters for scaling from your training data!"
   ]
  },
  {
   "cell_type": "code",
   "execution_count": null,
   "metadata": {},
   "outputs": [],
   "source": []
  }
 ],
 "metadata": {
  "kernelspec": {
   "display_name": "Python 3",
   "language": "python",
   "name": "python3"
  },
  "language_info": {
   "codemirror_mode": {
    "name": "ipython",
    "version": 3
   },
   "file_extension": ".py",
   "mimetype": "text/x-python",
   "name": "python",
   "nbconvert_exporter": "python",
   "pygments_lexer": "ipython3",
   "version": "3.8.5"
  }
 },
 "nbformat": 4,
 "nbformat_minor": 4
}
